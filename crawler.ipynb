{
 "cells": [
  {
   "cell_type": "code",
   "execution_count": 62,
   "metadata": {},
   "outputs": [
    {
     "name": "stdout",
     "output_type": "stream",
     "text": [
      "Requirement already satisfied: PyPDF2 in /opt/conda/lib/python3.8/site-packages (3.0.1)\n",
      "Requirement already satisfied: typing_extensions>=3.10.0.0; python_version < \"3.10\" in /opt/conda/lib/python3.8/site-packages (from PyPDF2) (4.11.0)\n",
      "Requirement already satisfied: pdfminer in /opt/conda/lib/python3.8/site-packages (20191125)\n",
      "Requirement already satisfied: pycryptodome in /opt/conda/lib/python3.8/site-packages (from pdfminer) (3.20.0)\n",
      "Requirement already satisfied: pdfminer.six in /opt/conda/lib/python3.8/site-packages (20231228)\n",
      "Requirement already satisfied: cryptography>=36.0.0 in /opt/conda/lib/python3.8/site-packages (from pdfminer.six) (42.0.5)\n",
      "Requirement already satisfied: charset-normalizer>=2.0.0 in /opt/conda/lib/python3.8/site-packages (from pdfminer.six) (3.3.2)\n",
      "Requirement already satisfied: cffi>=1.12; platform_python_implementation != \"PyPy\" in /opt/conda/lib/python3.8/site-packages (from cryptography>=36.0.0->pdfminer.six) (1.14.3)\n",
      "Requirement already satisfied: pycparser in /opt/conda/lib/python3.8/site-packages (from cffi>=1.12; platform_python_implementation != \"PyPy\"->cryptography>=36.0.0->pdfminer.six) (2.20)\n",
      "Requirement already satisfied: tabulate in /opt/conda/lib/python3.8/site-packages (0.9.0)\n",
      "Collecting openpyxl\n",
      "  Downloading openpyxl-3.1.2-py2.py3-none-any.whl (249 kB)\n",
      "\u001b[K     |████████████████████████████████| 249 kB 4.4 MB/s eta 0:00:01\n",
      "\u001b[?25hCollecting et-xmlfile\n",
      "  Downloading et_xmlfile-1.1.0-py3-none-any.whl (4.7 kB)\n",
      "Installing collected packages: et-xmlfile, openpyxl\n",
      "Successfully installed et-xmlfile-1.1.0 openpyxl-3.1.2\n"
     ]
    }
   ],
   "source": [
    "!pip install PyPDF2\n",
    "!pip install pdfminer\n",
    "!pip install pdfminer.six\n",
    "!pip install tabulate\n",
    "!pip install openpyxl"
   ]
  },
  {
   "cell_type": "code",
   "execution_count": null,
   "metadata": {},
   "outputs": [],
   "source": []
  },
  {
   "cell_type": "markdown",
   "metadata": {},
   "source": [
    "I've transformed it into a txt file to then structure and get the output for each company - I now plan to create a table where I get the data in a more understandabel format that I can use for my analysis"
   ]
  },
  {
   "cell_type": "code",
   "execution_count": null,
   "metadata": {},
   "outputs": [],
   "source": []
  },
  {
   "cell_type": "code",
   "execution_count": null,
   "metadata": {},
   "outputs": [],
   "source": []
  },
  {
   "cell_type": "code",
   "execution_count": null,
   "metadata": {},
   "outputs": [],
   "source": []
  },
  {
   "cell_type": "code",
   "execution_count": null,
   "metadata": {},
   "outputs": [],
   "source": [
    "from pdfminer.high_level import extract_text\n",
    "\n",
    "def extract_text_from_pdf(pdf_path):\n",
    "    text = extract_text(pdf_path)\n",
    "    return text\n",
    "\n",
    "pdf_path = 'pdf.pdf'\n",
    "text = extract_text_from_pdf(pdf_path)\n",
    "\n",
    "with open('new.txt', 'w') as file:\n",
    "    file.write(text)\n"
   ]
  },
  {
   "cell_type": "code",
   "execution_count": null,
   "metadata": {},
   "outputs": [],
   "source": [
    "import re\n",
    "\n",
    "def clean_text(input_text):\n",
    "    # Define patterns to match URLs, dates, and \"1/95\"\n",
    "    url_pattern = r'https?://\\S+'\n",
    "    date_pattern = r'\\d{1,2}/\\d{1,2}/\\d{2}, \\d{1,2}:\\d{1,2} (?:AM|PM)'\n",
    "    pattern_1_95 = r'^\\s*(?:[1-9]|[1-8][0-9]|9[0-5])/95\\s*$'\n",
    "\n",
    "    # Remove lines containing \"Document\", URLs, dates, and \"1/95\"\n",
    "    cleaned_text = []\n",
    "    previous_line_was_empty = False\n",
    "    for line in input_text.split('\\n'):\n",
    "        if not re.search(r'^\\s*Document\\s*$', line) \\\n",
    "           and not re.search(url_pattern, line) \\\n",
    "           and not re.search(date_pattern, line) \\\n",
    "           and not re.search(pattern_1_95, line):\n",
    "            # Remove double empty lines\n",
    "            if line.strip() == '' and previous_line_was_empty:\n",
    "                continue\n",
    "            cleaned_text.append(line)\n",
    "            previous_line_was_empty = line.strip() == ''\n",
    "    \n",
    "    return '\\n'.join(cleaned_text)\n",
    "\n",
    "# Read text from file\n",
    "with open('new.txt', 'r') as file:\n",
    "    text = file.read()\n",
    "\n",
    "# Clean the text\n",
    "cleaned_text = clean_text(text)\n",
    "\n",
    "# Write the cleaned text back to the file\n",
    "with open('cleaned_text_file.txt', 'w') as file:\n",
    "    file.write(cleaned_text)\n",
    "\n"
   ]
  },
  {
   "cell_type": "code",
   "execution_count": 82,
   "metadata": {},
   "outputs": [],
   "source": [
    "from tabulate import tabulate\n",
    "import pandas as pd\n",
    "\n",
    "\n",
    "def parse_projects(text):\n",
    "    projects = []\n",
    "    current_project = {}\n",
    "    current_key = None\n",
    "\n",
    "    # Split the text into lines\n",
    "    lines = text.split('\\n')\n",
    "\n",
    "    # Iterate over each line\n",
    "    for line in lines:\n",
    "        line = line.strip()\n",
    "        # Skip empty lines\n",
    "        if not line:\n",
    "            if current_key is None:\n",
    "                current_key = 'Address'\n",
    "            elif current_key == 'Address':\n",
    "                current_key = 'Category'\n",
    "            elif current_key == 'Category':\n",
    "                projects.append(current_project)\n",
    "                current_project = {}\n",
    "                current_key = None\n",
    "        if line:\n",
    "            if current_key is None:\n",
    "                current_project['Name'] = line\n",
    "            elif current_key == 'Address':\n",
    "                current_project.setdefault('Address', []).append(line)\n",
    "            elif current_key == 'Category':\n",
    "                current_project.setdefault('Category', []).append(line)\n",
    "            \n",
    "    # Append the last project\n",
    "    if current_project:\n",
    "        projects.append(current_project)\n",
    "    return projects\n",
    "\n",
    "def format_projects(projects):\n",
    "    formatted_projects = []\n",
    "    for project in projects:\n",
    "        formatted_project = {}\n",
    "        formatted_project['Name'] = project['Name']\n",
    "        # Join the lines of the address with a comma\n",
    "        formatted_project['Address'] = ', '.join(project.get('Address', []))\n",
    "        formatted_project['Category'] = project['Category']\n",
    "        formatted_projects.append(formatted_project)\n",
    "    return formatted_projects\n",
    "\n",
    "def main():\n",
    "    # Read text from file\n",
    "    with open('cleaned_text_file.txt', 'r') as file:\n",
    "        text = file.read()\n",
    "\n",
    "    # Parse the projects\n",
    "    projects = parse_projects(text)\n",
    "\n",
    "    # Print projects as table\n",
    "    df = pd.DataFrame(projects)\n",
    "    df.to_excel('projects.xlsx', index=False)\n",
    "    # Print the DataFrame\n",
    "    \n",
    "if __name__ == \"__main__\":\n",
    "    main()\n",
    "    "
   ]
  },
  {
   "cell_type": "code",
   "execution_count": 83,
   "metadata": {},
   "outputs": [],
   "source": [
    "df = pd.read_excel('projects.xlsx')\n",
    "\n",
    "df['Zip Code'] = df['Address'].str.split(', ').str[-2]\n",
    "df['Country'] = df['Address'].str.split(', ').str[-1]\n",
    "\n",
    "# Displaying the resulting DataFrame\n",
    "df\n",
    "df.to_excel('projects.xlsx', index=False)"
   ]
  },
  {
   "cell_type": "code",
   "execution_count": null,
   "metadata": {},
   "outputs": [],
   "source": []
  }
 ],
 "metadata": {
  "kernelspec": {
   "display_name": "Python 3",
   "language": "python",
   "name": "python3"
  },
  "language_info": {
   "codemirror_mode": {
    "name": "ipython",
    "version": 3
   },
   "file_extension": ".py",
   "mimetype": "text/x-python",
   "name": "python",
   "nbconvert_exporter": "python",
   "pygments_lexer": "ipython3",
   "version": "3.8.5"
  }
 },
 "nbformat": 4,
 "nbformat_minor": 4
}
